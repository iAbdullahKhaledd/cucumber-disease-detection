{
 "cells": [
  {
   "cell_type": "markdown",
   "metadata": {},
   "source": [
    "## 1. Install Project Dependencies\n",
    "\n",
    "This cell installs all the necessary libraries listed in the `requirements.txt` file. This is the first step to setting up the environment, especially when running on a platform like Google Colab."
   ]
  },
  {
   "cell_type": "code",
   "execution_count": null,
   "metadata": {},
   "outputs": [],
   "source": [
    "!pip install -q -r ../requirements.txt"
   ]
  },
  {
   "cell_type": "markdown",
   "metadata": {},
   "source": [
    "## 2. Import Project Modules\n",
    "\n",
    "Here, we import the functions and classes that we wrote in the `src` directory. By adding `../src` to the system path, this notebook can find and use our custom Python scripts (`train.py`, `config.py`, `utils.py`).\n",
    "\n",
    "**Note:** To run this in an environment like Google Colab, you would need to:\n",
    "1. Upload your entire project folder (or clone it from GitHub).\n",
    "2. Upload your `.env` file containing the `ROBOFLOW_API_KEY` into the main project directory (`cucumber-disease-detection/`)."
   ]
  },
  {
   "cell_type": "code",
   "execution_count": null,
   "metadata": {},
   "outputs": [],
   "source": [
    "import sys\n",
    "import os\n",
    "\n",
    "# Add the source directory to the Python path so we can import our modules\n",
    "sys.path.append(os.path.abspath(os.path.join('..', 'src')))\n",
    "\n",
    "from train import download_dataset, YOLOTrainer\n",
    "from utils import apply_nms_gpu_workaround, setup_logging\n",
    "from config import Config"
   ]
  },
  {
   "cell_type": "markdown",
   "metadata": {},
   "source": [
    "## 3. Execute the Training Pipeline\n",
    "\n",
    "This is the main execution cell. It runs the complete, end-to-end training pipeline by calling the functions and classes we imported.\n",
    "\n",
    "The steps are:\n",
    "1. Set up logging to monitor the process.\n",
    "2. Apply a technical workaround for GPU compatibility.\n",
    "3. Download the dataset from Roboflow (this step is skipped if the data already exists).\n",
    "4. Initialize the `YOLOTrainer` and start the training process."
   ]
  },
  {
   "cell_type": "code",
   "execution_count": null,
   "metadata": {},
   "outputs": [],
   "source": [
    "logger = setup_logging()\n",
    "\n",
    "try:\n",
    "    logger.info(\"--- Starting ML Pipeline from Notebook ---\")\n",
    "    \n",
    "    # Step 1: Apply any necessary workarounds\n",
    "    apply_nms_gpu_workaround()\n",
    "    \n",
    "    # Step 2: Download the dataset\n",
    "    download_dataset()\n",
    "    \n",
    "    # Step 3: Initialize and run the trainer\n",
    "    trainer = YOLOTrainer()\n",
    "    trainer.train()\n",
    "    \n",
    "    logger.info(\"--- ML Pipeline Finished Successfully ---\")\n",
    "\n",
    "except Exception as e:\n",
    "    logger.error(f\"An error occurred during notebook execution: {e}\", exc_info=True)"
   ]
  }
 ],
 "metadata": {
  "kernelspec": {
   "display_name": "Python 3",
   "language": "python",
   "name": "python3"
  },
  "language_info": {
   "name": "python"
  }
 },
 "nbformat": 4,
 "nbformat_minor": 2
}
